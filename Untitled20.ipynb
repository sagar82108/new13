{
 "cells": [
  {
   "cell_type": "code",
   "execution_count": null,
   "id": "71a68d82-9866-4b60-9d21-53cbd431e8fd",
   "metadata": {},
   "outputs": [],
   "source": [
    "\"\"\"ans1) Web scraping is a technique used to extract data from websites or web pages automatically.\n",
    "It involves using software tools, bots, or scripts to navigate web pages, extract specific information, and save it in a structured format such as a spreadsheet or a database. \n",
    "Web scraping enables the collection of large amounts of data from various websites quickly and efficiently.\n",
    "\n",
    "Web scraping is used for a variety of purposes, including:\n",
    "\n",
    "Data Collection and Analysis: Web scraping allows organizations to gather vast amounts of data from the internet to perform market research, competitor analysis, sentiment analysis, and other data-driven tasks. \n",
    "By aggregating data from multiple sources, businesses can make informed decisions and gain insights into market trends and consumer behavior.\n",
    "\n",
    "Price Comparison and Monitoring: E-commerce companies often use web scraping to monitor competitors' prices and product offerings. By gathering data on competitor prices, businesses can adjust their pricing strategies in real-time to remain competitive.\n",
    "\n",
    "Content Aggregation: Web scraping is used to collect and consolidate content from various websites, such as news articles, blog posts, or product reviews. \n",
    "Content aggregation platforms use web scraping to curate relevant content and present it to users in a convenient and organized manner."
   ]
  },
  {
   "cell_type": "code",
   "execution_count": null,
   "id": "17627286-38fc-44cf-934d-db0059cae384",
   "metadata": {},
   "outputs": [],
   "source": [
    "\"\"\"ans2) Web scraping is the process of automatically extracting data from websites. \n",
    "Different methods include using libraries/frameworks like BeautifulSoup, regex, XPath, and CSS selectors. \n",
    "Headless browsers and APIs are also used. Ethical practices are essential to ensure responsible and legal web scraping."
   ]
  },
  {
   "cell_type": "code",
   "execution_count": null,
   "id": "426b4374-1516-4169-b4d1-9ffb9f3b600b",
   "metadata": {},
   "outputs": [],
   "source": [
    "\"\"\"ans3) Beautiful Soup is a Python library for web scraping HTML and XML documents.\n",
    "It simplifies parsing and extracting data from web pages, making it popular \n",
    "for its ease of use, robustness, and efficiency. \n",
    "It allows developers to navigate parsed data and extract specific information with straightforward methods."
   ]
  },
  {
   "cell_type": "code",
   "execution_count": null,
   "id": "06e3a6a7-1a07-47d2-bc73-ee9c44579988",
   "metadata": {},
   "outputs": [],
   "source": [
    "\"\"\"ans4) Flask is used in web scraping projects because it allows developers to create a web interface for easy interaction with the scraping application. \n",
    "It supports asynchronous programming for improved performance, integrates well with popular scraping libraries, and provides customization and deployment flexibility."
   ]
  },
  {
   "cell_type": "code",
   "execution_count": null,
   "id": "d09c6e51-ac9f-4510-9e39-a84c3b93a981",
   "metadata": {},
   "outputs": [],
   "source": [
    "\"\"\"ans5 )AWS CodePipeline is a service for continuous integration and continuous delivery. \n",
    "It automates building, testing, and deploying applications. \n",
    "AWS Elastic Beanstalk is a PaaS that simplifies application deployment by handling infrastructure management."
   ]
  }
 ],
 "metadata": {
  "kernelspec": {
   "display_name": "Python 3 (ipykernel)",
   "language": "python",
   "name": "python3"
  },
  "language_info": {
   "codemirror_mode": {
    "name": "ipython",
    "version": 3
   },
   "file_extension": ".py",
   "mimetype": "text/x-python",
   "name": "python",
   "nbconvert_exporter": "python",
   "pygments_lexer": "ipython3",
   "version": "3.10.8"
  }
 },
 "nbformat": 4,
 "nbformat_minor": 5
}
